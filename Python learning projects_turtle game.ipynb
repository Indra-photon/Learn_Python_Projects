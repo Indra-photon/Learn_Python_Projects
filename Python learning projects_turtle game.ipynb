{
 "cells": [
  {
   "cell_type": "code",
   "execution_count": null,
   "id": "7dc53990",
   "metadata": {},
   "outputs": [],
   "source": [
    "from turtle import Turtle, Screen\n",
    "import random\n",
    "\n",
    "is_race_on=False\n",
    "screen = Screen()\n",
    "screen.setup(width=500, height=400)\n",
    "colors=[\"red\", \"orange\", \"yellow\", \"green\", \"blue\", \"purple\"]\n",
    "user_bet = screen.textinput(title=\"make your bet\", prompt= \"which turtle is going to win the race? enter a colour\")\n",
    "y = 100\n",
    "x = -240\n",
    "all_turtle = []\n",
    "for turtle_index in range(0, 6):\n",
    "    tim = Turtle(shape=\"turtle\")\n",
    "    tim.color(colors[turtle_index])\n",
    "    tim.penup()\n",
    "    tim.goto(x, y)\n",
    "    y -= 40\n",
    "    all_turtle.append(tim)\n",
    "\n",
    "if user_bet:\n",
    "    is_race_on = True\n",
    "while is_race_on:\n",
    "    for turtle in all_turtle:\n",
    "        if turtle.xcor() > 230:\n",
    "            is_race_on = False\n",
    "            winning_colour = turtle.pencolor()\n",
    "            if winning_colour == user_bet:\n",
    "                print(f\"you have won!\")\n",
    "            else:\n",
    "                print(f\"you have lost!, {winning_colour} has won!\")\n",
    "        distance = random.randint(0, 10)\n",
    "        turtle.forward(distance)\n",
    "\n",
    "screen.exitonclick()"
   ]
  },
  {
   "cell_type": "code",
   "execution_count": null,
   "id": "2a9d4270",
   "metadata": {},
   "outputs": [],
   "source": []
  }
 ],
 "metadata": {
  "kernelspec": {
   "display_name": "Python 3 (ipykernel)",
   "language": "python",
   "name": "python3"
  },
  "language_info": {
   "codemirror_mode": {
    "name": "ipython",
    "version": 3
   },
   "file_extension": ".py",
   "mimetype": "text/x-python",
   "name": "python",
   "nbconvert_exporter": "python",
   "pygments_lexer": "ipython3",
   "version": "3.9.12"
  }
 },
 "nbformat": 4,
 "nbformat_minor": 5
}
