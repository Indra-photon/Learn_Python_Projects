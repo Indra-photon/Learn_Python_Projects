{
 "cells": [
  {
   "cell_type": "code",
   "execution_count": 8,
   "metadata": {},
   "outputs": [
    {
     "name": "stdout",
     "output_type": "stream",
     "text": [
      "Give the first number12\n",
      "+\n",
      "-\n",
      "*\n",
      "/\n",
      "Pick the operation which you want to do with this calculator+\n",
      "Give the second number12\n",
      "24\n",
      "Do you want to continue if yes type y and to exit type nn\n",
      "Thank you for using our calculator\n"
     ]
    }
   ],
   "source": [
    "def add(n1, n2):\n",
    "    return(n1+n2)\n",
    "def subtract(n1, n2):\n",
    "    return n1-n2\n",
    "def multiply(n1, n2):\n",
    "    return n1*n2\n",
    "def divide(n1, n2):\n",
    "    return n1/n2\n",
    "\n",
    "dictionary ={\n",
    "  \"+\" : add,\n",
    "  \"-\" : subtract,\n",
    "  \"*\" : multiply,\n",
    "  \"/\" : divide\n",
    "}\n",
    "\n",
    "n1 = int(input(\"Give the first number\"))\n",
    "for keys in dictionary:          # for printing the keys in dictionary\n",
    "    print(keys)\n",
    "operation_symbol=input(\"Pick the operation which you want to do with this calculator\")\n",
    "n2 = int(input(\"Give the second number\"))\n",
    "calculation=dictionary[operation_symbol]    #tap in the keys of the dictionary according to input operation from user\n",
    "result = calculation(n1, n2)\n",
    "print(result)\n",
    "\n",
    "\n",
    "to_be_continued= True\n",
    "\n",
    "while to_be_continued:\n",
    "    \n",
    "    furthur_operation=input(\"Do you want to continue if yes type y and to exit type n\")\n",
    "    if furthur_operation == \"y\":\n",
    "        n1 = int(input(\"Give the first number\"))\n",
    "        operation_symbol=input(\"Pick the operation which you want to do with this calculator\")\n",
    "        n2 = int(input(\"Give the second number\"))\n",
    "        calculation=dictionary[operation_symbol]    #tap in the keys of the dictionary according to input operation from user\n",
    "        result = calculation(n1, n2)\n",
    "        print(result)\n",
    "    if furthur_operation == \"n\":\n",
    "        print(\"Thank you for using our calculator\")\n",
    "        to_be_continued=False\n",
    "    \n",
    "\n",
    "\n",
    "\n",
    "    "
   ]
  },
  {
   "cell_type": "code",
   "execution_count": null,
   "metadata": {},
   "outputs": [],
   "source": []
  },
  {
   "cell_type": "code",
   "execution_count": null,
   "metadata": {},
   "outputs": [],
   "source": []
  }
 ],
 "metadata": {
  "kernelspec": {
   "display_name": "Python 3",
   "language": "python",
   "name": "python3"
  },
  "language_info": {
   "codemirror_mode": {
    "name": "ipython",
    "version": 3
   },
   "file_extension": ".py",
   "mimetype": "text/x-python",
   "name": "python",
   "nbconvert_exporter": "python",
   "pygments_lexer": "ipython3",
   "version": "3.8.5"
  }
 },
 "nbformat": 4,
 "nbformat_minor": 4
}
