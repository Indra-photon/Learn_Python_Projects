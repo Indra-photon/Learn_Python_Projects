{
 "cells": [
  {
   "cell_type": "code",
   "execution_count": 2,
   "metadata": {},
   "outputs": [
    {
     "name": "stdout",
     "output_type": "stream",
     "text": [
      "Welcome to the PyPassword Generator!\n",
      "How many letters would you like in your password?\n",
      "3\n",
      "How many symbols would you like?\n",
      "4\n",
      "How many numbers would you like?\n",
      "5\n",
      "['j', 'm', 'm']\n",
      "['+', '&', '&', '$']\n",
      "['6', '8', '6', '8', '9']\n",
      "['j', 'm', 'm', '+', '&', '&', '$', '6', '8', '6', '8', '9']\n",
      "['&', '6', 'j', '6', '8', '6', '6', '6', 'j', '6']\n",
      "Your password is  &6j68666j6\n"
     ]
    }
   ],
   "source": [
    "#Password GENERATOR\n",
    "#Password Generator Project\n",
    "import random\n",
    "letters = ['a', 'b', 'c', 'd', 'e', 'f', 'g', 'h', 'i', 'j', 'k', 'l', 'm', 'n', 'o', 'p', 'q', 'r', 's', 't', 'u', 'v', 'w', 'x', 'y', 'z', 'A', 'B', 'C', 'D', 'E', 'F', 'G', 'H', 'I', 'J', 'K', 'L', 'M', 'N', 'O', 'P', 'Q', 'R', 'S', 'T', 'U', 'V', 'W', 'X', 'Y', 'Z']\n",
    "numbers = ['0', '1', '2', '3', '4', '5', '6', '7', '8', '9']\n",
    "symbols = ['!', '#', '$', '%', '&', '(', ')', '*', '+']\n",
    "\n",
    "print(\"Welcome to the PyPassword Generator!\")\n",
    "nr_letters= int(input(\"How many letters would you like in your password?\\n\")) \n",
    "nr_symbols = int(input(f\"How many symbols would you like?\\n\"))\n",
    "nr_numbers = int(input(f\"How many numbers would you like?\\n\"))\n",
    "\n",
    "chosen_letters=[]\n",
    "for i in range(1,nr_letters+1):\n",
    "    x=random.randint(0,28)\n",
    "    chosen_letters+=letters[x]\n",
    "\n",
    "chosen_symbols=[]\n",
    "for i in range(0,nr_symbols):\n",
    "    y=random.randint(0,8)\n",
    "    chosen_symbols+=symbols[y]\n",
    "\n",
    "chosen_numbers=[]\n",
    "for i in range(0,nr_numbers):\n",
    "    z=random.randint(0,9)\n",
    "    chosen_numbers+=numbers[z]\n",
    "    \n",
    "print(chosen_letters)\n",
    "print(chosen_symbols)\n",
    "print(chosen_numbers)\n",
    "\n",
    "length=int(nr_letters+nr_symbols+nr_numbers)\n",
    "chosen_entity=chosen_letters+chosen_symbols+chosen_numbers\n",
    "print(chosen_entity)\n",
    "password=[]\n",
    "\n",
    "for i in range(1, length-1):\n",
    "    p=random.randint(0, length-1)\n",
    "    password+=chosen_entity[p]\n",
    "print(password)\n",
    "        \n",
    "def func(password):\n",
    "    str = \" \"\n",
    "    for ele in password:\n",
    "        str += ele \n",
    "    return(str)\n",
    "\n",
    "xyz=(func(password))\n",
    "print(f\"Your password is {xyz}\")\n",
    "\n"
   ]
  },
  {
   "cell_type": "code",
   "execution_count": null,
   "metadata": {},
   "outputs": [],
   "source": []
  },
  {
   "cell_type": "code",
   "execution_count": null,
   "metadata": {},
   "outputs": [],
   "source": []
  },
  {
   "cell_type": "code",
   "execution_count": null,
   "metadata": {},
   "outputs": [],
   "source": []
  }
 ],
 "metadata": {
  "kernelspec": {
   "display_name": "Python 3",
   "language": "python",
   "name": "python3"
  },
  "language_info": {
   "codemirror_mode": {
    "name": "ipython",
    "version": 3
   },
   "file_extension": ".py",
   "mimetype": "text/x-python",
   "name": "python",
   "nbconvert_exporter": "python",
   "pygments_lexer": "ipython3",
   "version": "3.8.5"
  }
 },
 "nbformat": 4,
 "nbformat_minor": 4
}
