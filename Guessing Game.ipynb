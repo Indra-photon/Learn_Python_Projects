{
 "cells": [
  {
   "cell_type": "code",
   "execution_count": 6,
   "metadata": {},
   "outputs": [
    {
     "name": "stdout",
     "output_type": "stream",
     "text": [
      "Enter the difficulty level hard or easyeasy\n",
      "Guess a number50\n",
      "Too high\n",
      "You have 9 level left \n",
      "Guess a number40\n",
      "Too high\n",
      "You have 8 level left \n",
      "Guess a number30\n",
      "Too high\n",
      "You have 7 level left \n",
      "Guess a number20\n",
      "Too high\n",
      "You have 6 level left \n",
      "Guess a number10\n",
      "Too low\n",
      "You have 5 level left \n",
      "Guess a number15\n",
      "Too low\n",
      "You have 4 level left \n",
      "Guess a number18\n",
      "You have 3 level left \n",
      "Hurray! you won the game!!\n"
     ]
    }
   ],
   "source": [
    "#Number Guessing Game Objectives:\n",
    "import random\n",
    "# Include an ASCII art logo.\n",
    "# Allow the player to submit a guess for a number between 1 and 100.\n",
    "#guess = int(input (\"Guess a number between 1 to 100\"))\n",
    "answer= random.randint(0,101)\n",
    "difficulty = input(\"Enter the difficulty level hard or easy\").lower()\n",
    "# Check user's guess against actual answer. Print \"Too high.\" or \"Too low.\" depending on the user's answer.\n",
    "\n",
    "to_be_checked=False\n",
    "def number_checker(guess_value, answer_value):\n",
    "    if guess_value<answer_value:\n",
    "        print(\"Too low\")\n",
    "    if guess_value> answer_value:\n",
    "        print(\"Too high\")\n",
    "\n",
    "if difficulty == \"hard\":\n",
    "    counting = 5\n",
    "if difficulty ==\"easy\":\n",
    "    counting = 10\n",
    "    \n",
    "while not to_be_checked:\n",
    "    guess = int(input (\"Guess a number\"))\n",
    "    \n",
    "    number_checker(guess, answer)\n",
    "    print(f\"You have {counting-1} level left \")\n",
    "    counting -=1\n",
    "    \n",
    "    if guess==answer:\n",
    "        print(\"Hurray! you won the game!!\")\n",
    "        to_be_checked=True\n",
    "        \n",
    "    if counting == 0:\n",
    "        print(\"You lost the game!!! Try again!!\")\n",
    "  \n",
    "\n",
    "\n",
    "\n",
    "    \n",
    "# If they got the answer correct, show the actual answer to the player.\n",
    "# Track the number of turns remaining.\n",
    "# If they run out of turns, provide feedback to the player. \n",
    "# Include two different difficulty levels (e.g., 10 guesses in easy mode, only 5 guesses in hard mode).\n",
    "\n"
   ]
  },
  {
   "cell_type": "code",
   "execution_count": null,
   "metadata": {},
   "outputs": [],
   "source": []
  },
  {
   "cell_type": "code",
   "execution_count": null,
   "metadata": {},
   "outputs": [],
   "source": []
  }
 ],
 "metadata": {
  "kernelspec": {
   "display_name": "Python 3",
   "language": "python",
   "name": "python3"
  },
  "language_info": {
   "codemirror_mode": {
    "name": "ipython",
    "version": 3
   },
   "file_extension": ".py",
   "mimetype": "text/x-python",
   "name": "python",
   "nbconvert_exporter": "python",
   "pygments_lexer": "ipython3",
   "version": "3.8.5"
  }
 },
 "nbformat": 4,
 "nbformat_minor": 4
}
